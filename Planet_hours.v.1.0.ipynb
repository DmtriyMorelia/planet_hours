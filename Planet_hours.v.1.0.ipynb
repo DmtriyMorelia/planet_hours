{
  "nbformat": 4,
  "nbformat_minor": 0,
  "metadata": {
    "colab": {
      "name": "Untitled1.ipynb",
      "provenance": [],
      "authorship_tag": "ABX9TyNIW7C4xsot+SGocv22g0CY",
      "include_colab_link": true
    },
    "kernelspec": {
      "name": "python3",
      "display_name": "Python 3"
    }
  },
  "cells": [
    {
      "cell_type": "markdown",
      "metadata": {
        "id": "view-in-github",
        "colab_type": "text"
      },
      "source": [
        "<a href=\"https://colab.research.google.com/github/DmtriyMorelia/planet_hours/blob/master/Planet_hours.v.1.0.ipynb\" target=\"_parent\"><img src=\"https://colab.research.google.com/assets/colab-badge.svg\" alt=\"Open In Colab\"/></a>"
      ]
    },
    {
      "cell_type": "markdown",
      "metadata": {
        "id": "etCVlidNGUCz",
        "colab_type": "text"
      },
      "source": [
        "**Рассчет Дневных Планетарных Часов (Python3)**"
      ]
    },
    {
      "cell_type": "code",
      "metadata": {
        "id": "t24y9ZKHGuV7",
        "colab_type": "code",
        "colab": {
          "base_uri": "https://localhost:8080/",
          "height": 123
        },
        "outputId": "c3f26b16-1cb3-4295-adf2-941b4ba65bac"
      },
      "source": [
        "!python3 -m pip install suntime"
      ],
      "execution_count": null,
      "outputs": [
        {
          "output_type": "stream",
          "text": [
            "Collecting suntime\n",
            "  Downloading https://files.pythonhosted.org/packages/93/95/a4eec0b36daeda6fa84b804da308211141d4a6ada13da228ecdf49600434/suntime-1.2.5-py3-none-any.whl\n",
            "Requirement already satisfied: python-dateutil in /usr/local/lib/python3.6/dist-packages (from suntime) (2.8.1)\n",
            "Requirement already satisfied: six>=1.5 in /usr/local/lib/python3.6/dist-packages (from python-dateutil->suntime) (1.12.0)\n",
            "Installing collected packages: suntime\n",
            "Successfully installed suntime-1.2.5\n"
          ],
          "name": "stdout"
        }
      ]
    },
    {
      "cell_type": "code",
      "metadata": {
        "id": "KEdJaaTYGyhK",
        "colab_type": "code",
        "colab": {}
      },
      "source": [
        "import datetime, time,locale\n",
        "from suntime import Sun, SunTimeException"
      ],
      "execution_count": null,
      "outputs": []
    },
    {
      "cell_type": "code",
      "metadata": {
        "id": "HTLUSOToGORV",
        "colab_type": "code",
        "colab": {}
      },
      "source": [
        "planets = dict([\n",
        "\t[\"Sun\", \"\\u2609\"],\n",
        "\t[\"Venera\" , \"\\u2640\"],\n",
        "\t[\"Mercury\" , \"\\u263F\"],\n",
        "\t[\"Moon\" , \"\\u263D\"],\n",
        "\t[\"Saturn\" , \"\\u2644\"],\n",
        "\t[\"Jupyter\" , \"\\u2643\"],\n",
        "\t[\"Mars\" , \"\\u2642\"]])\n",
        "latitude, longitude = 59+(56+23/60)/60,30+(18+35/60)/60\n",
        "DBG = 0\n",
        "def coord(latitude, longitude):\n",
        "\tg1, g2 = int(latitude), int(longitude)\n",
        "\ts1, s2 = (latitude - g1) * 3600, (longitude - g2) * 3600\n",
        "\tm1, m2 = s1 // 60, s2 // 60\n",
        "\ts1, s2 = s1 % 60, s2 %60\n",
        "\treturn [int(g1),int(m1),s1,int(g2),int(m2),s2]\n",
        "def tude(tude):\n",
        "\treturn  \"{0[0]}°{0[1]}\\'{0[2]:2.3f}\\\"\".format(\n",
        "\t\t[\n",
        "\t\t\tint(tude),\n",
        "\t\t\tint(tude * 60 % 60),\n",
        "\t\t\ttude * 360000 % 6000 /100\n",
        "\t\t])\n",
        "def sun_rise_set(latitude, longitude, abd, TZ=\"UTC\" ):\n",
        "\tsun = Sun(latitude, longitude)\n",
        "\tif (TZ == \"UTC\"):\n",
        "\t\ttoday_sr = sun.get_sunrise_time()\n",
        "\t\ttoday_ss = sun.get_sunset_time()\n",
        "\t\tif DBG:\n",
        "\t\t\tprint('Today at {2[0]}°{2[1]}\\'{2[2]:2.2f}\"N {2[3]}°{2[4]}\\'{2[5]:2.2f}\"E the sun raised at {0} and get down at {1} UTC'.format( today_sr.strftime('%H:%M:%S'), today_ss.strftime('%H:%M:%S'), coord(latitude, longitude)))\n",
        "\t\treturn today_sr, today_ss\n",
        "\telse:\n",
        "\t\tabd_sr = sun.get_local_sunrise_time(abd)\n",
        "\t\tabd_ss = sun.get_local_sunset_time(abd)\n",
        "\t\tif DBG:\n",
        "\t\t\tprint('On {0} the sun at {2[0]}°{2[1]}\\'{2[2]:2.2f}\\\"N {2[3]}°{2[4]}\\'{2[5]:2.2f}\\\"E raised at {1} and get down at {3}.'.\n",
        "\t\t\tformat(\n",
        "\t\t\t\tabd,\n",
        "\t\t\t\tabd_sr.strftime('%H:%M:%S'),\n",
        "\t\t\t\tcoord(latitude, longitude),\n",
        "\t\t\t\tabd_ss.strftime('%H:%M:%S')))\n",
        "\t\treturn abd_sr, abd_ss\n",
        "def answer(prompt=\"\"):\n",
        "\tx = input(prompt)\n",
        "\treturn x in set([\"\", \"y\", \"Y\", \"д\", \"Д\"])\n",
        "\n",
        "if answer('рассчёт на сегодня[\"д\"|\"н\"]?'):\n",
        "\tabd = datetime.date.today()\n",
        "else:\n",
        "\tabd = datetime.date(int(input('год: ')), int(input('месяц: ')), int(input('число: ')))\n",
        "\n",
        "sr,ss = sun_rise_set(latitude, longitude, abd, \"local\")\n",
        "#locale.setlocale(locale.LC_ALL, 'ru_RU.UTF-8')\n",
        "print(\"рассчёт на: \", abd.strftime('%A %Y-%m-%d'))\n",
        "while True:\n",
        "\tprint(\"координаты  места: {}N {}E[{},{}] ?\".format( tude(latitude), tude(longitude), latitude, longitude), end='')\n",
        "\tif  answer(\"\"):\n",
        "\t\tbreak\n",
        "\telse:\n",
        "\t\tlatitude, longitude = [float(x) for x in input(\"координаты:  \").split(\",\")]\n",
        "#\t\tprint(latitude, longitude)\n",
        "print(\"https://google.com/maps/dir/Current+Location/{0},{1}/@{home_lat},{home_lon},{zoom}z\".format(latitude,longitude,home_lat=latitude,home_lon=longitude,zoom=19))\n",
        "print(\"время по Гринвичу(UT) в Москве плюс 3 часа\\nвосход {} ; закат {}\".format(sr.strftime('%H:%M:%S'),ss.strftime('%H:%M:%S')))\n",
        "day_time = ss - sr\n",
        "magic_hour = day_time / 12\n",
        "print(\"долгота дня : \", day_time)#.strftime('%H:%M:%s'))\n",
        "print(\"дневной магический час :\", magic_hour)\n",
        "fh = sr\n",
        "day_num = abd.isoweekday()\n",
        "print(\"время начала дневных планетарных часов\")\n",
        "for i in range(13):\n",
        "\tmagic_hour_num = (24 * day_num + i)% 7\n",
        "\tprint(\"{0}. ({1}) {3}\".format((\"\\n начало 1-го Ночного планетарного часа \",i+1)[i!=12],list(planets.values())[magic_hour_num],list(planets.keys())[magic_hour_num],fh.strftime('%H:%M:%S')), end=\"\\n\")\n",
        "\tfh += magic_hour"
      ],
      "execution_count": null,
      "outputs": []
    }
  ]
}